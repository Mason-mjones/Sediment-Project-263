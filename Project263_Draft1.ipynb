{
 "cells": [
  {
   "cell_type": "markdown",
   "id": "efdd5690",
   "metadata": {},
   "source": [
    "## Introduction"
   ]
  },
  {
   "cell_type": "markdown",
   "id": "c69b3443",
   "metadata": {},
   "source": [
    "This notebook investigates how the Monterey Bay Submarine Canyon affects wave dynamics and sediment transport."
   ]
  },
  {
   "cell_type": "markdown",
   "id": "647618b5-3758-4686-9beb-001ecd311cc8",
   "metadata": {},
   "source": [
    "This study aims to investigate the influence of submarine canyon topography on wave dynamics and nearshore currents, with a particular focus on the Monterey Bay Submarine Canyon. Specifically, the project will assess how local significant wave height is altered by the presence of the canyon and will estimate potential nearshore alongshore radiation stresses at and around the canyon head. These estimates will be used to explore the potential for sediment transport in this region. \n",
    "\n",
    "To achieve this, we utilize model data from the Coastal Data Information Program (CDIP), specifically the Model Output and Processing (MOP) system. CDIP, based at the Scripps Institution of Oceanography, provides real-time and historical wave data along the U.S. Pacific coast. The MOP model integrates offshore buoy observations with nested numerical wave models, including the SWAN (Simulating Waves Nearshore) model, to generate high-resolution hindcasts and forecasts of wave conditions across coastal transects. This system is capable of resolving how wave energy is transformed as it propagates shoreward, making it particularly effective for analyzing complex coastal features such as submarine canyons, headlands, and reefs. Data for this project will be extracted from CDIP MOP transects located near the head of the Monterey Canyon. This submarine canyon is a dominant bathymetric feature within Monterey Bay and is known to significantly influence local hydrodynamics. Due to its steep and incised structure, the canyon can refract and focus incoming wave energy, potentially altering both wave height and direction in the nearshore zone. Understanding how these modifications affect current speeds and sediment dynamics is crucial for coastal process studies. \n",
    "\n",
    "Using the significant wave height (Hs) data from these transects, we will calculate alongshore current velocities and therefore sediment transport indicies. By estimating these current velocities, we can make inferences about sediment transport potential in the vicinity of the canyon head. \n",
    "\n",
    "The significance of this research lies in its contribution to our understanding of how submarine canyons affect sediment movement and coastal morphology. Sediment transport processes play a critical role in shaping shorelines, maintaining benthic habitats, and supporting biological productivity. In particular, submarine canyons serve as key conduits for material exchange between shallow coastal areas and deeper marine environments. Ultimately, this project seeks to determine whether a correlation exists between significant wave height/direction and calculated alongshore current velocities in the Monterey Canyon region. Identifying such a relationship could provide valuable insights into sediment transport mechanisms in canyon-influenced coastal systems and improve predictive capabilities for coastal management and conservation planning. "
   ]
  },
  {
   "cell_type": "markdown",
   "id": "c744e756",
   "metadata": {},
   "source": [
    "## Methods"
   ]
  },
  {
   "cell_type": "markdown",
   "id": "7aa42b65-37c0-4e9a-aaa6-2c1aefb4f6b8",
   "metadata": {},
   "source": [
    "1. I will be pulling data from the CDIP MOP model from Monterey county transect map to select points in the vicinity of the submarine canyon head. This will be to analyze how alongshore radiation stress(waveSxy) varies monthly throughout the year as well as how well corelated significant wave height(waveHs) and direction(waveDp) are with this variable. \n",
    "\n",
    "2. Specifically I chose these transect points (MO886 - MO891) from 100m south of the southern rim of the canyon head to 100m north of the northern rim of the canyon head (MO896 - MO899). I’ll first plot monthly radiation stress variability over the last year for each of these transects to see seasonal trends. Then I’d like to compare these trends with a plot of significant wave height and direction. Picking out where largest alongshore radiation stress is for each side of the harbor and if it lines up with either the largest wave height or ideal direction(45 degress from beach angle). \n",
    "\n",
    "3. After looking at broader trends I’d like to zero in on the largest recorded significant wave height over the past year, including the build up and the tapering for each transect point. For this 2025 study this happens to be the 24 hour period from March 18th to the 19th where wave heights peaked out at ~3.5m.   \n",
    "\n",
    "4. I'll then take this cropped storm data and plot the significant wave height over the alongshore radiation stress. This is a proxy for the alongshore current speed/sediment transport. \n",
    "\n",
    "5. Finally id like to run a  paired T test on the North transects vs the South transects to see if they are 1. Statistically significant for alongshore radiation stress and 2. Significant wave height and direction. This could potentially how each of these littoral cells (north Monterey and south Monterey) are interacting with the canyon head tributaries. Also Id like to potentially run and ANOVA on all 10 transects to see of the distance from the canyon head does play a role in channeling energy in certain locations( realistically just seeing how well this model handles this complex area) \n",
    "\n",
    "6. Lastly, if I can figure it out, creating a quiver map showing vectors for alongshore radiation stress would be awesome. \n",
    "\n"
   ]
  },
  {
   "cell_type": "markdown",
   "id": "74ee5420",
   "metadata": {},
   "source": [
    "## Visualization of Wave Height(waveHs) and Alongshore Radiation Stress (Sxy)"
   ]
  },
  {
   "cell_type": "code",
   "execution_count": null,
   "id": "4681812c",
   "metadata": {},
   "outputs": [],
   "source": []
  },
  {
   "cell_type": "markdown",
   "id": "1fa3af86-2bfa-4ca4-ac9e-7266e760d3bc",
   "metadata": {},
   "source": [
    "## Visualization of Wave direction(waveDp) and Alongshore Radiation Stress (Sxy)"
   ]
  },
  {
   "cell_type": "code",
   "execution_count": null,
   "id": "f162e1e8-71a3-4855-bcdc-14fa576896d3",
   "metadata": {},
   "outputs": [],
   "source": []
  },
  {
   "cell_type": "markdown",
   "id": "8d5893f4",
   "metadata": {},
   "source": [
    "## Quiver Map"
   ]
  },
  {
   "cell_type": "markdown",
   "id": "9b3c0ad2-4b8a-4a06-a380-eb31251e63d3",
   "metadata": {},
   "source": [
    "## Paired T test and ANOVA"
   ]
  },
  {
   "cell_type": "code",
   "execution_count": null,
   "id": "3a1daf61-9755-4f56-98d1-4aa0ba3498ad",
   "metadata": {},
   "outputs": [],
   "source": []
  },
  {
   "cell_type": "code",
   "execution_count": null,
   "id": "335184b2",
   "metadata": {},
   "outputs": [],
   "source": []
  },
  {
   "cell_type": "markdown",
   "id": "28bd4321",
   "metadata": {},
   "source": [
    "## Results"
   ]
  },
  {
   "cell_type": "code",
   "execution_count": null,
   "id": "af1bb58c",
   "metadata": {},
   "outputs": [],
   "source": []
  },
  {
   "cell_type": "code",
   "execution_count": null,
   "id": "aabe222c",
   "metadata": {},
   "outputs": [],
   "source": []
  },
  {
   "cell_type": "markdown",
   "id": "b0881774",
   "metadata": {},
   "source": [
    "## Conclusion"
   ]
  },
  {
   "cell_type": "markdown",
   "id": "8222a0de",
   "metadata": {},
   "source": []
  },
  {
   "cell_type": "markdown",
   "id": "5c9bb440",
   "metadata": {},
   "source": [
    "## Future Work"
   ]
  },
  {
   "cell_type": "markdown",
   "id": "08547468",
   "metadata": {},
   "source": [
    "An Idea for future work would be to somehow add the changing bathymetry from consistent updated surveys to this model to more accurately predict the correlation of wave height/direction to alongshore current speeds. Certain bathymetry shapes could diminish or enhance near alongshore velocities therefore sediment resuspension/transport. "
   ]
  },
  {
   "cell_type": "markdown",
   "id": "63166962-9868-4234-bb6f-62088d8e63ea",
   "metadata": {},
   "source": [
    "## References"
   ]
  },
  {
   "cell_type": "code",
   "execution_count": null,
   "id": "8cd40809-6ccf-437a-bf8c-cf60f42d7907",
   "metadata": {},
   "outputs": [],
   "source": []
  }
 ],
 "metadata": {
  "kernelspec": {
   "display_name": "Python [conda env:base] *",
   "language": "python",
   "name": "conda-base-py"
  },
  "language_info": {
   "codemirror_mode": {
    "name": "ipython",
    "version": 3
   },
   "file_extension": ".py",
   "mimetype": "text/x-python",
   "name": "python",
   "nbconvert_exporter": "python",
   "pygments_lexer": "ipython3",
   "version": "3.12.2"
  }
 },
 "nbformat": 4,
 "nbformat_minor": 5
}
