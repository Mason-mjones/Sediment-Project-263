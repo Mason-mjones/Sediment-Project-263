{
 "cells": [
  {
   "cell_type": "markdown",
   "id": "efdd5690",
   "metadata": {},
   "source": [
    "## Introduction"
   ]
  },
  {
   "cell_type": "markdown",
   "id": "c69b3443",
   "metadata": {},
   "source": [
    "This notebook investigates how the Monterey Bay Submarine Canyon affects wave dynamics and sediment transport."
   ]
  },
  {
   "cell_type": "markdown",
   "id": "647618b5-3758-4686-9beb-001ecd311cc8",
   "metadata": {},
   "source": [
    "This study aims to investigate the influence of submarine canyon topography on wave dynamics and nearshore currents, with a particular focus on the Monterey Bay Submarine Canyon. Specifically, the project will assess how local significant wave height is altered by the presence of the canyon and will estimate potential nearshore current velocities at and around the canyon head. These estimates will be used to explore the potential for sediment transport in this region. \n",
    "\n",
    "To achieve this, we utilize model data from the Coastal Data Information Program (CDIP), specifically the Model Output and Processing (MOP) system. CDIP, based at the Scripps Institution of Oceanography, provides real-time and historical wave data along the U.S. Pacific coast. The MOP model integrates offshore buoy observations with nested numerical wave models, including the SWAN (Simulating Waves Nearshore) model, to generate high-resolution hindcasts and forecasts of wave conditions across coastal transects. This system is capable of resolving how wave energy is transformed as it propagates shoreward, making it particularly effective for analyzing complex coastal features such as submarine canyons, headlands, and reefs. Data for this project will be extracted from CDIP MOP transects located near the head of the Monterey Canyon. This submarine canyon is a dominant bathymetric feature within Monterey Bay and is known to significantly influence local hydrodynamics. Due to its steep and incised structure, the canyon can refract and focus incoming wave energy, potentially altering both wave height and direction in the nearshore zone. Understanding how these modifications affect current speeds and sediment dynamics is crucial for coastal process studies. \n",
    "\n",
    "Using the significant wave height (Hs) data from these transects, we will calculate near-bottom alongshore current velocities employing the Coastal Engineering Research Center (CERC) equation. The CERC equation is a semi-empirical formula used widely in coastal engineering to estimate longshore sediment transport based on wave energy flux. It relates the breaking wave height and angle of incidence to the momentum transfer that drives alongshore currents. By estimating these current velocities, we can make inferences about sediment transport potential in the vicinity of the canyon head. \n",
    "\n",
    "The significance of this research lies in its contribution to our understanding of how submarine canyons affect sediment movement and coastal morphology. Sediment transport processes play a critical role in shaping shorelines, maintaining benthic habitats, and supporting biological productivity. In particular, submarine canyons serve as key conduits for material exchange between shallow coastal areas and deeper marine environments. Ultimately, this project seeks to determine whether a correlation exists between significant wave height and calculated near-bottom current velocities in the Monterey Canyon region. Identifying such a relationship could provide valuable insights into sediment transport mechanisms in canyon-influenced coastal systems and improve predictive capabilities for coastal management and conservation planning. "
   ]
  },
  {
   "cell_type": "markdown",
   "id": "c744e756",
   "metadata": {},
   "source": [
    "## Methods"
   ]
  },
  {
   "cell_type": "markdown",
   "id": "7aa42b65-37c0-4e9a-aaa6-2c1aefb4f6b8",
   "metadata": {},
   "source": [
    "1. Pulling the specific transect points (MO8… - MO8..) from 100m south of the southern rim of the canyon head to 100m north of the northern rim of the canyon head. Finding historical storm data from this past winter that shows each storm, including the build up and the tapering for each transect point. \n",
    "\n",
    "2. Then cropping those out to only have data from the winter storm events. These storm events are defined as time periods when significant wave height is above 2 meters. \n",
    "\n",
    "3. I’ll then take that cropped storm data and input into the CERC equation to then model how near bottom velocities change over the course of each storm as well as how it increases or decreases as you get closer to the head of the canyon. \n",
    "\n",
    "4. I’ll then overlay this new current velocity profile on the significant wave height data to see if there is a correlation with these two variables. Especially within the confines of the canyon head. These plots will be made for each transect within the chosen study area. \n",
    "\n",
    "5. I’ll then run statistical analysis on these plots to see if the correlation is statistically significant."
   ]
  },
  {
   "cell_type": "markdown",
   "id": "74ee5420",
   "metadata": {},
   "source": [
    "## Results "
   ]
  },
  {
   "cell_type": "code",
   "execution_count": null,
   "id": "4681812c",
   "metadata": {},
   "outputs": [],
   "source": []
  },
  {
   "cell_type": "markdown",
   "id": "f3f43b26",
   "metadata": {},
   "source": [
    "## Calculating Nearshore Currents Using CERC Equation"
   ]
  },
  {
   "cell_type": "code",
   "execution_count": null,
   "id": "335184b2",
   "metadata": {},
   "outputs": [],
   "source": []
  },
  {
   "cell_type": "markdown",
   "id": "28bd4321",
   "metadata": {},
   "source": [
    "## Visualization of Wave Height and Current Velocity"
   ]
  },
  {
   "cell_type": "code",
   "execution_count": null,
   "id": "af1bb58c",
   "metadata": {},
   "outputs": [],
   "source": []
  },
  {
   "cell_type": "markdown",
   "id": "8d5893f4",
   "metadata": {},
   "source": [
    "## Statistical Correlation Analysis"
   ]
  },
  {
   "cell_type": "code",
   "execution_count": null,
   "id": "aabe222c",
   "metadata": {},
   "outputs": [],
   "source": []
  },
  {
   "cell_type": "markdown",
   "id": "b0881774",
   "metadata": {},
   "source": [
    "## Conclusion"
   ]
  },
  {
   "cell_type": "markdown",
   "id": "8222a0de",
   "metadata": {},
   "source": []
  },
  {
   "cell_type": "markdown",
   "id": "5c9bb440",
   "metadata": {},
   "source": [
    "## Future Work"
   ]
  },
  {
   "cell_type": "markdown",
   "id": "08547468",
   "metadata": {},
   "source": [
    "An Idea for future work would be to somehow add the changing bathymetry from consistent updated surveys to this model to more accurately predict the correlation of wave height to alongshore current speeds. Certain bathymetry shapes could diminish or enhance near bottom alongshore velocities therefore sediment resuspension/transport. "
   ]
  },
  {
   "cell_type": "markdown",
   "id": "63166962-9868-4234-bb6f-62088d8e63ea",
   "metadata": {},
   "source": [
    "## References"
   ]
  },
  {
   "cell_type": "code",
   "execution_count": null,
   "id": "8cd40809-6ccf-437a-bf8c-cf60f42d7907",
   "metadata": {},
   "outputs": [],
   "source": []
  }
 ],
 "metadata": {
  "kernelspec": {
   "display_name": "Python [conda env:base] *",
   "language": "python",
   "name": "conda-base-py"
  },
  "language_info": {
   "codemirror_mode": {
    "name": "ipython",
    "version": 3
   },
   "file_extension": ".py",
   "mimetype": "text/x-python",
   "name": "python",
   "nbconvert_exporter": "python",
   "pygments_lexer": "ipython3",
   "version": "3.12.2"
  }
 },
 "nbformat": 4,
 "nbformat_minor": 5
}
